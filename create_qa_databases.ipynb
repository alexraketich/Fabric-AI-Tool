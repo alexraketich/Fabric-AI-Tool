{
 "cells": [
  {
   "cell_type": "markdown",
   "id": "ae351ba3-24dd-4415-a4f3-0255e58be086",
   "metadata": {},
   "source": [
    "# Create Vector DBs"
   ]
  },
  {
   "cell_type": "code",
   "execution_count": null,
   "id": "f175e835-5117-482a-b77d-cfc731a9e3dc",
   "metadata": {},
   "outputs": [],
   "source": [
    "from langchain_community.document_loaders import WebBaseLoader\n",
    "from langchain_huggingface.embeddings import HuggingFaceEmbeddings\n",
    "from langchain_chroma import Chroma\n",
    "from langchain_core.documents import Document\n",
    "\n",
    "import pandas as pd\n",
    "import re\n",
    "from uuid import uuid4"
   ]
  },
  {
   "cell_type": "code",
   "execution_count": null,
   "id": "22c3e29b-f46c-43bb-aa16-75bb1e134346",
   "metadata": {},
   "outputs": [],
   "source": [
    "import os\n",
    "print(\"Current working directory:\", os.getcwd())\n"
   ]
  },
  {
   "cell_type": "code",
   "execution_count": null,
   "id": "8775d884-b34d-4be1-98af-543e26e8a5a3",
   "metadata": {},
   "outputs": [],
   "source": [
    "def bs4_extractor(html: str) -> str:\n",
    "    soup = BeautifulSoup(html, \"lxml\")\n",
    "    return re.sub(r\"\\n\\n+\", \"\\n\\n\", soup.text).strip()"
   ]
  },
  {
   "cell_type": "code",
   "execution_count": null,
   "id": "f79ae87c-34f0-407b-ba4a-3feecc8b758a",
   "metadata": {},
   "outputs": [],
   "source": [
    "def load_urls_from_csv_files(csv_paths, column_name=\"Permalink\"):\n",
    "    all_urls = []\n",
    "    for path in csv_paths:\n",
    "        df = pd.read_csv(path)\n",
    "        if column_name not in df.columns:\n",
    "            raise ValueError(f\"Column '{column_name}' not found in {path}\")\n",
    "        urls = df[column_name].dropna().tolist()\n",
    "        all_urls.extend(urls)\n",
    "    return all_urls\n",
    "\n",
    "def load_pages_from_url_list(url_list):\n",
    "    loader = WebBaseLoader(url_list)\n",
    "    docs = loader.load()\n",
    "    for doc in docs:\n",
    "        doc.page_content = re.sub(r\"\\n{3,}\", \"\\n\\n\", doc.page_content)\n",
    "    return docs\n",
    "\n",
    "def create_vectorstore(documents, database_loc, embedding=\"all-mpnet-base-v2\"):\n",
    "    embedding_model = HuggingFaceEmbeddings(model_name=embedding)\n",
    "    vector_store = Chroma(embedding_function=embedding_model,\n",
    "                          persist_directory=database_loc)\n",
    "    uuids = [str(uuid4()) for _ in range(len(documents))]\n",
    "    vector_store.add_documents(documents, ids=uuids)\n",
    "    print(f\"All documents have been processed and stored at {database_loc}.\")"
   ]
  },
  {
   "cell_type": "markdown",
   "id": "7ae6b218-d4ae-461e-9fe8-077046948eaa",
   "metadata": {},
   "source": [
    "## Create a Knowledge Base DB"
   ]
  },
  {
   "cell_type": "code",
   "execution_count": null,
   "id": "43da67f7-1ec0-4e1e-a5ad-72b7ff2045c7",
   "metadata": {},
   "outputs": [],
   "source": [
    "kb_db_loc = \"Vectorstore/kb_only\""
   ]
  },
  {
   "cell_type": "code",
   "execution_count": null,
   "id": "b1846a68-7226-4978-9f30-45b981a1e200",
   "metadata": {
    "scrolled": true
   },
   "outputs": [],
   "source": [
    "# Load URLs from the Article CSV export\n",
    "kb_csv_files = [\"/home/anra240/URLupload/Article-Export-2025-Apr-29-181530.csv\"]\n",
    "kb_urls = load_urls_from_csv_files(kb_csv_files, column_name=\"Permalink\")\n",
    "\n",
    "# Load documents from URLs\n",
    "kb_pages = load_pages_from_url_list(kb_urls)\n",
    "\n",
    "# Deduplicate documents\n",
    "source_urls = set()\n",
    "titles = set()\n",
    "kb_deduped = []\n",
    "\n",
    "for i, doc in enumerate(kb_pages):\n",
    "    src = doc.metadata.get('source')\n",
    "    title = doc.metadata.get('title')\n",
    "    doc_page_content = doc.page_content\n",
    "    document = Document(page_content=doc_page_content,\n",
    "                        metadata={\"url\": src, \"title\": title}, id=i)\n",
    "    \n",
    "    if \"Page not found\" not in title and \"Log In\" not in title:\n",
    "        kb_deduped.append(document)\n",
    "        print(f\"adding {src}: {title}\")\n",
    "    else:\n",
    "        print(f\"Found duplicates: {src}: {title}\")\n",
    "\n",
    "print(len(kb_deduped))\n",
    "create_vectorstore(kb_deduped, kb_db_loc, embedding=\"all-mpnet-base-v2\")"
   ]
  },
  {
   "cell_type": "markdown",
   "id": "70c28b5f-c48c-4e38-91dd-3fff582d6228",
   "metadata": {},
   "source": [
    "## Create a Forum DB"
   ]
  },
  {
   "cell_type": "code",
   "execution_count": null,
   "id": "5b162533-9ab8-4c1a-bd4b-7ca9a3facc00",
   "metadata": {},
   "outputs": [],
   "source": [
    "forum_db_loc = \"Vectorstore/forum_only\""
   ]
  },
  {
   "cell_type": "code",
   "execution_count": null,
   "id": "8819e7aa-8c00-4edc-8e48-1ae4524fb8a8",
   "metadata": {},
   "outputs": [],
   "source": [
    "# Load URLs from the Forum CSV export\n",
    "forum_csv_files = [\"/home/anra240/URLupload/Topic-Export-2025-Apr-29-182021.csv\"]\n",
    "forum_urls = load_urls_from_csv_files(forum_csv_files, column_name=\"Permalink\")\n",
    "\n",
    "# Load documents from URLs\n",
    "forum_pages = load_pages_from_url_list(forum_urls)\n",
    "\n",
    "# Deduplicate documents\n",
    "source_urls = set()\n",
    "titles = set()\n",
    "forum_deduped = []\n",
    "\n",
    "for i, doc in enumerate(forum_pages):\n",
    "    src = doc.metadata.get('source')\n",
    "    title = doc.metadata.get('title')\n",
    "    doc_page_content = doc.page_content\n",
    "    document = Document(page_content=doc_page_content,\n",
    "                        metadata={\"url\": src, \"title\": title}, id=i)\n",
    "    \n",
    "    if \"Page not found\" not in title and \"Log In\" not in title:\n",
    "        forum_deduped.append(document)\n",
    "        print(f\"adding {src}: {title}\")\n",
    "    else:\n",
    "        print(f\"Found duplicates: {src}: {title}\")\n",
    "\n",
    "print(len(forum_deduped))\n",
    "create_vectorstore(forum_deduped, forum_db_loc, embedding=\"all-mpnet-base-v2\")"
   ]
  },
  {
   "cell_type": "markdown",
   "id": "252e0e0a-4511-467b-8e29-fca917d990dd",
   "metadata": {},
   "source": [
    "## Create a combined DB"
   ]
  },
  {
   "cell_type": "code",
   "execution_count": null,
   "id": "e1a3fa14-adec-460e-9d4c-b581db85526d",
   "metadata": {},
   "outputs": [],
   "source": [
    "kb_csv_files = [\"/home/anra240/URLupload/Article-Export-2025-Apr-29-181530.csv\"]\n",
    "forum_csv_files = [\"/home/anra240/URLupload/Topic-Export-2025-Apr-29-182021.csv\"]\n",
    "\n",
    "kb_urls = load_urls_from_csv_files(kb_csv_files, column_name=\"Permalink\")\n",
    "forum_urls = load_urls_from_csv_files(forum_csv_files, column_name=\"Permalink\")\n",
    "\n",
    "kb_pages = load_pages_from_url_list(kb_urls)\n",
    "forum_pages = load_pages_from_url_list(forum_urls)\n",
    "\n",
    "def filter_docs(pages):\n",
    "    return [doc for doc in pages if \"Page not found\" not in doc.metadata.get(\"title\", \"\") and \"Log In\" not in doc.metadata.get(\"title\", \"\")]\n",
    "\n",
    "kb_deduped = filter_docs(kb_pages)\n",
    "forum_deduped = filter_docs(forum_pages)\n",
    "\n",
    "combined_docs = kb_deduped + forum_deduped\n",
    "combined_db_loc = \"Vectorstore/kb_forum_combined\"\n",
    "\n",
    "create_vectorstore(combined_docs, combined_db_loc, embedding=\"all-mpnet-base-v2\")"
   ]
  },
  {
   "cell_type": "code",
   "execution_count": null,
   "id": "e54e549a-27d4-429f-ae05-4bf899a9d695",
   "metadata": {},
   "outputs": [],
   "source": []
  }
 ],
 "metadata": {
  "kernelspec": {
   "display_name": "Python 3 (ipykernel)",
   "language": "python",
   "name": "python3"
  },
  "language_info": {
   "codemirror_mode": {
    "name": "ipython",
    "version": 3
   },
   "file_extension": ".py",
   "mimetype": "text/x-python",
   "name": "python",
   "nbconvert_exporter": "python",
   "pygments_lexer": "ipython3",
   "version": "3.12.4"
  }
 },
 "nbformat": 4,
 "nbformat_minor": 5
}
